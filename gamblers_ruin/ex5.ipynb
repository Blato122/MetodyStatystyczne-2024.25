{
 "cells": [
  {
   "cell_type": "markdown",
   "metadata": {},
   "source": [
    "### 5. Rozkłady kapitału gracza po n krokach\n",
    "Proszę zasymulować proces ruiny gracza z łącznymi kapitałami początkowymi a = b = 50 i p = 1/2 i 1/5.\n",
    "\n",
    "Proszę wyznaczyć rozkład kapitału gracza A po n krokach rozgrywki w trzech przypadkach:\n",
    "n = 10, L_śr/2, 0.9 L_śr\n",
    "gdzie L_śr to średnia długość trwania rozgrywki wyznaczona w poprzednich zadaniach."
   ]
  },
  {
   "cell_type": "code",
   "execution_count": 1,
   "metadata": {},
   "outputs": [],
   "source": [
    "import matplotlib.pyplot as plt\n",
    "import numpy as np"
   ]
  },
  {
   "cell_type": "code",
   "execution_count": 2,
   "metadata": {},
   "outputs": [],
   "source": [
    "def simulate_ruin(capital_a: int, capital_b: int, p: float) -> tuple[int, int, int]:\n",
    "    \"\"\"\n",
    "    p - probability of player A taking 1$ from player B\n",
    "    \"\"\"\n",
    "    length = 0\n",
    "    while capital_a != 0 and capital_b != 0:\n",
    "        length += 1\n",
    "        if np.random.rand() < p:\n",
    "            capital_a += 1\n",
    "            capital_b -= 1\n",
    "        else:\n",
    "            capital_a -= 1\n",
    "            capital_b += 1\n",
    "\n",
    "    return capital_a, capital_b, length"
   ]
  },
  {
   "cell_type": "code",
   "execution_count": null,
   "metadata": {},
   "outputs": [],
   "source": [
    "# data from the 3rd exercise\n",
    "mean_durations = {\n",
    "    0.2: 83,\n",
    "    0.5: 2508\n",
    "}"
   ]
  },
  {
   "cell_type": "code",
   "execution_count": null,
   "metadata": {},
   "outputs": [],
   "source": [
    "n_games = 10000\n",
    "capital_a = capital_b = 50\n",
    "\n",
    "string_ps = [\"0.2\", \"0.5\"]\n",
    "ps = list(map(float, string_ps))\n",
    "lenghts = {p: [] for p in ps}"
   ]
  }
 ],
 "metadata": {
  "kernelspec": {
   "display_name": "Python 3",
   "language": "python",
   "name": "python3"
  },
  "language_info": {
   "codemirror_mode": {
    "name": "ipython",
    "version": 3
   },
   "file_extension": ".py",
   "mimetype": "text/x-python",
   "name": "python",
   "nbconvert_exporter": "python",
   "pygments_lexer": "ipython3",
   "version": "3.10.12"
  }
 },
 "nbformat": 4,
 "nbformat_minor": 2
}
